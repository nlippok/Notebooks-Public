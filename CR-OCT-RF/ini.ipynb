{
 "cells": [
  {
   "cell_type": "code",
   "execution_count": 2,
   "metadata": {},
   "outputs": [],
   "source": [
    "#Variables\n",
    "c = 299792458\n",
    "nptslambda = 1000\n",
    "Noversampl = 10\n",
    "noise = 0.1\n",
    "ph0 = 0\n",
    "FILTFACT = 10\n",
    "nonlin = 0\n",
    "Order = 3\n",
    "fsr = 150e9\n",
    "fwhml =35e-9\n",
    "depth0 = 250"
   ]
  },
  {
   "cell_type": "code",
   "execution_count": 1,
   "metadata": {},
   "outputs": [],
   "source": [
    "#Buttons\n",
    "FILT = False\n",
    "FiltType = 1\n",
    "CohSum = False\n",
    "AutoPhase = False\n",
    "IQ = True \n",
    "BG = False\n",
    "SNR = False"
   ]
  },
  {
   "cell_type": "code",
   "execution_count": null,
   "metadata": {},
   "outputs": [],
   "source": [
    "fwhmp = nptslambda*pulsew\n",
    "fwhmlw = 6.49e9            #linewidth 6.49 GHz\n",
    "\n",
    "nfft = np.power(2,17)      #number points FFT\n",
    "R = 1/10;                  #sample arm reflectivity\n",
    "LB = c/2/fsr\n",
    "\n",
    "Dlam = 3*fwhml       #sweeping range\n",
    "lc = (1290e-9)       #center wavelength\n",
    "le = (lc+Dlam/2)     #stopping wavelength\n",
    "ls = (lc-Dlam/2)     #starting wavelength\n",
    "\n",
    "fs = c/le                  #starting optical frequency\n",
    "fs = round(fs/fsr)*fsr     #make sure it starts at intiger fsr\n",
    "Df = c/ls - c/le           #sweeping bandwidth\n",
    "\n",
    "nl = round(Df/fsr)         #number lambdas\n",
    "fwhmf = c/(lc-fwhml/2) - c/(lc+fwhml/2)"
   ]
  },
  {
   "cell_type": "code",
   "execution_count": null,
   "metadata": {},
   "outputs": [],
   "source": [
    "#BUILD FREQUENCY STEPPED VECTOR\n",
    "of = np.zeros(nl)\n",
    "ol = np.zeros(nl)\n",
    "ok = np.zeros(nl)\n",
    "\n",
    "for i in range(0,nl):\n",
    "    of[i] = fs + i*fsr\n",
    "    ol[i] = c/of[i]\n",
    "    ok[i] = 1/ol[i]\n",
    "\n",
    "#frequency vector\n",
    "oof = np.zeros(nl*nptslambda)\n",
    "ook = np.zeros(nl*nptslambda)\n",
    "\n",
    "inc = 0\n",
    "for i in range(0,nl):\n",
    "    for j in range(0,nptslambda):\n",
    "        oof[inc] = of[i]\n",
    "        ook[inc] = ok[i]\n",
    "        inc = inc + 1\n",
    "        \n",
    "npts = len(oof)"
   ]
  },
  {
   "cell_type": "code",
   "execution_count": null,
   "metadata": {},
   "outputs": [],
   "source": [
    "#CONTINUOUS k-VECTOR\n",
    "fs = of[1]-fsr\n",
    "df = (of[-1]-of[1])/(npts-nptslambda+1)\n",
    "fe = fs + df*npts\n",
    "ofcont = np.linspace(fs,fe,npts)"
   ]
  },
  {
   "cell_type": "code",
   "execution_count": null,
   "metadata": {},
   "outputs": [],
   "source": [
    "#GAUSSIAN FIELD ENVELOPE\n",
    "ind = int(np.floor(len(ofcont)/2))\n",
    "amp = np.exp(-1*np.square(ofcont-ofcont[ind])/(2*np.square(fwhmf/(2*np.sqrt(2*np.log(2))))))"
   ]
  },
  {
   "cell_type": "code",
   "execution_count": null,
   "metadata": {},
   "outputs": [],
   "source": [
    "#PULSE TRAIN\n",
    "ampp_gauss = np.exp(-1*np.square(np.linspace(1,nptslambda,nptslambda)-nptslambda/2)/(2*np.square(fwhmp/(2*np.sqrt(2*np.log(2))))))\n",
    "\n",
    "#build pulse train\n",
    "ptrain = np.zeros(nl*nptslambda)\n",
    "\n",
    "if nptslambda  == 1:\n",
    "    ampp = 1\n",
    "else:\n",
    "    inc = 0\n",
    "    for i in range(1,nl+1):\n",
    "        ptrain[inc:inc+nptslambda] = ampp_gauss \n",
    "        \n",
    "        for j in range(1,nptslambda+1):\n",
    "            inc = inc + 1            \n",
    "    \n",
    "    ampp = ptrain # Final output pulse train\n",
    "\n",
    "# total field enveloepe\n",
    "amp = amp*ampp*1/pulsew"
   ]
  },
  {
   "cell_type": "code",
   "execution_count": null,
   "metadata": {},
   "outputs": [],
   "source": [
    "amp = np.concatenate((amp,amp,amp),axis=0)\n",
    "oof = np.concatenate((oof,oof,oof),axis=0)\n",
    "ofcont = np.concatenate((ofcont,ofcont,ofcont),axis=0)"
   ]
  }
 ],
 "metadata": {
  "kernelspec": {
   "display_name": "Python 3",
   "language": "python",
   "name": "python3"
  },
  "language_info": {
   "codemirror_mode": {
    "name": "ipython",
    "version": 3
   },
   "file_extension": ".py",
   "mimetype": "text/x-python",
   "name": "python",
   "nbconvert_exporter": "python",
   "pygments_lexer": "ipython3",
   "version": "3.8.3"
  }
 },
 "nbformat": 4,
 "nbformat_minor": 4
}
